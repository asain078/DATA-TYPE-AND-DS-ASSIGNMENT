{
  "nbformat": 4,
  "nbformat_minor": 0,
  "metadata": {
    "colab": {
      "provenance": []
    },
    "kernelspec": {
      "name": "python3",
      "display_name": "Python 3"
    },
    "language_info": {
      "name": "python"
    }
  },
  "cells": [
    {
      "cell_type": "code",
      "execution_count": null,
      "metadata": {
        "id": "p92SWSIZtngJ"
      },
      "outputs": [],
      "source": [
        "\n"
      ]
    },
    {
      "cell_type": "markdown",
      "source": [
        "Q1.Q1.What are data structures, and why are they important?\n",
        "\n",
        "Data structures are organizational tools used in computer science to store, manage, and retrieve data efficiently. Think of them as blueprints for how data is arranged and accessed in a program. They come in various forms, such as arrays, linked lists, stacks, queues, trees, graphs, hash tables, and more.\n",
        "\n",
        "Their importance lies in their ability to optimize the performance and efficiency of software. Here’s why they matter:\n",
        "\n",
        "Efficiency: Choosing the right data structure ensures optimal processing speed and memory usage. For example, searching for an item in a hash table is faster than in an unsorted array.\n",
        "\n",
        "Organization: They provide a clear and logical way to manage data, especially when handling large volumes.\n",
        "\n",
        "Adaptability: Certain data structures are better suited for specific problems. For instance, graphs are ideal for modeling networks like social connections or road maps.\n",
        "\n",
        "Scalability: They help software scale effectively as the amount of data grows.\n",
        "\n",
        "In essence, data structures are the backbone of robust and efficient algorithms. They form the foundation of countless applications, from search engines to databases to gaming systems"
      ],
      "metadata": {
        "id": "JOHcrcJdu4Z6"
      }
    },
    {
      "cell_type": "markdown",
      "source": [
        "Q2. Explain the difference between mutable and immutable data types with examples?\n",
        "\n",
        "Mutable Data Types: These are data types whose content can be altered or modified after the object is created.\n",
        "\n",
        "Examples: Lists, dictionaries, and sets in Python.\n",
        "\n",
        "Immutable Data Types :These are data types whose content cannot be altered after the object is created. Any modification results in the creation of a new object.\n",
        "\n",
        "Examples: Strings, tuples, and integers in Python.\n",
        "\n"
      ],
      "metadata": {
        "id": "ZdrA3ZvkupOW"
      }
    },
    {
      "cell_type": "markdown",
      "source": [
        "Q3. What are the main differences between lists and tuples in Python?\n",
        "\n",
        "Lists and tuples are both sequence data types in Python, but they have several key differences in terms of functionality and use. Here's a comparison:\n",
        "\n",
        "1. Mutability\n",
        "Lists: Mutable – their content can be changed after creation.\n",
        "Tuples: Immutable – their content cannot be changed once created.\n",
        "2. Syntax\n",
        "Lists: Defined using square brackets [ ].\n",
        "Tuples: Defined using parentheses ( ).\n",
        "3. Performance\n",
        "Lists: Slightly slower because they are mutable and involve overhead for dynamic operations.\n",
        "\n",
        "Tuples: Faster due to immutability, making them more efficient for fixed data.\n",
        "\n",
        "4. Use Cases\n",
        "Lists: Ideal for data that changes frequently (e.g., dynamic datasets).\n",
        "\n",
        "Tuples: Best suited for fixed collections or when immutability is important (e.g., coordinates).\n",
        "\n",
        "5. Methods Available\n",
        "Lists: Have a wide range of methods, such as .append(), .remove(), and .sort().\n",
        "Tuples: Limited methods, primarily .count() and .index().\n",
        "6. Memory Usage\n",
        "Lists: Use more memory due to their mutability and additional functionality.\n",
        "\n",
        "Tuples: Use less memory as they are immutable.\n"
      ],
      "metadata": {
        "id": "1Ui3fKwsvhlD"
      }
    },
    {
      "cell_type": "markdown",
      "source": [
        "Q4. Describe how dictionaries store data?\n",
        "\n",
        "Dictionaries in Python are implemented as hash tables, which allow them to store and retrieve data with exceptional efficiency. Here's a breakdown of how they work:\n",
        "\n",
        "Key Characteristics\n",
        "Key-Value Pairs: A dictionary stores data as key-value pairs, where each key is unique, and each key is associated with a specific value.\n",
        "\n",
        "Hashing: When a key is added to a dictionary, Python applies a hashing function to the key, generating a unique numerical value called a \"hash.\" This hash determines where the key-value pair is stored in memory."
      ],
      "metadata": {
        "id": "DCytoZmXwxcM"
      }
    },
    {
      "cell_type": "markdown",
      "source": [
        "Q5.Why might you use a set instead of a list in Python?\n",
        "\n",
        "A set might be a better choice than a list in Python depending on your specific needs. Here's why sets stand out:\n",
        "\n",
        "Key Advantages of Sets Over Lists\n",
        "Uniqueness: Sets automatically remove duplicates, ensuring all elements are unique.\n",
        "Fast Membership Checks: Checking whether an item exists in a set is faster than in a list because sets use hash tables internally. This gives membership tests a time complexity of O(1).\n",
        "Set Operations: Sets support mathematical operations like union, intersection, and difference, which are useful for comparing and manipulating collections.\n",
        "Order: Sets are unordered, which means the items do not maintain a specific sequence. If order isn't required, sets are a better option.\n",
        "\n",
        "When to Use a Set\n",
        "When you need to ensure all elements are unique.\n",
        "\n",
        "When you need efficient membership testing.\n",
        "\n",
        "When you need to perform set-specific operations like union or intersection.\n",
        "\n",
        "When to Use a List\n",
        "When you need to maintain order.\n",
        "\n",
        "When you need duplicate values.\n",
        "When you rely on list-specific methods like .append() or .sort()."
      ],
      "metadata": {
        "id": "3SlbGkCHw5_h"
      }
    },
    {
      "cell_type": "markdown",
      "source": [
        "Q6.What is a string in Python, and how is it different from a lis?\n",
        "\n",
        "In Python, a string is a sequence of characters enclosed in quotes, used to represent textual data. Strings are immutable, meaning their content cannot be changed once created. On the other hand, a list is a sequence of elements (which can include any data type), enclosed in square brackets, and is mutable—allowing modification after creation."
      ],
      "metadata": {
        "id": "6rl60hHTxXyQ"
      }
    },
    {
      "cell_type": "markdown",
      "source": [
        "Q7. How do tuples ensure data integrity in Python?\n",
        "\n",
        "uples ensure data integrity in Python primarily because of their immutability. Once a tuple is created, its contents cannot be altered, added to, or removed. This provides stability and reliability, especially in situations where the data should remain constant."
      ],
      "metadata": {
        "id": "UIn8T0dexrSN"
      }
    },
    {
      "cell_type": "markdown",
      "source": [
        "Q8. What is a hash table, and how does it relate to dictionaries in Python?\n",
        "\n",
        "A hash table is a data structure that maps keys to values using a hashing function, which transforms the key into a unique index to store and access data efficiently. Hash tables are foundational for quick lookups, making them ideal for situations where you need fast access to associated data.\n",
        "\n",
        "Relation to Dictionaries in Python\n",
        "Dictionaries in Python are an implementation of hash tables. Here's how they relate:\n",
        "\n",
        "Key-Value Storage: Like hash tables, dictionaries store data as key-value pairs. Each key in a dictionary must be hashable (immutable data types like strings, tuples, etc.).\n",
        "\n",
        "Hashing Mechanism: When a key-value pair is added, Python computes a hash value for the key using a hashing algorithm. This hash value determines the memory location (or bucket) where the data is stored.\n",
        "\n",
        "Efficiency: Hash tables provide an average time complexity of O(1) for lookups, insertions, and deletions, which is why dictionaries are incredibly fast.\n",
        "\n",
        "Collision Handling: Dictionaries handle hash collisions (when two keys produce the same hash value) using techniques like chaining or open addressing, ensuring all data remains accessible.\n",
        "\n",
        "Dynamic Resizing: Python dictionaries automatically resize as more items are added to optimize performance and prevent excessive collisions."
      ],
      "metadata": {
        "id": "bTlkbJRdzBsg"
      }
    },
    {
      "cell_type": "markdown",
      "source": [
        "Q9. Can lists contain different data types in Python\n",
        "?\n",
        "\n",
        "Yes, Python lists can contain different data types within the same list. This flexibility is one of the key features of Python lists, making them versatile for various applications. Here's an example:\n",
        "\n",
        "Breakdown of Elements:\n",
        "1: An integer.\n",
        "\n",
        "\"Hello\": A string.\n",
        "\n",
        "3.14: A floating-point number.\n",
        "\n",
        "True: A boolean.\n",
        "\n",
        "[5, 6, 7]: A nested list."
      ],
      "metadata": {
        "id": "jMYtEfK7zOU1"
      }
    },
    {
      "cell_type": "markdown",
      "source": [],
      "metadata": {
        "id": "sP6pXTQOua9u"
      }
    },
    {
      "cell_type": "markdown",
      "source": [
        "Q10. Explain why strings are immutable in Python?\n",
        "\n",
        "Strings are immutable in Python because of their design and implementation, which prioritize efficiency, security, and ease of use. Here's a detailed explanation:\n",
        "\n",
        "Reasons Why Strings Are Immutable\n",
        "Memory Efficiency:\n",
        "\n",
        "Strings are widely used in programming, and immutability allows Python to optimize memory usage. For instance, if two variables refer to the same string, they share the same memory space rather than creating duplicates.\n",
        "\n",
        "Hashability:\n",
        "\n",
        "Strings are immutable, making them hashable and usable as keys in dictionaries or elements in sets. This would not be possible if strings could be changed.\n",
        "\n",
        "Security:\n",
        "\n",
        "Immutability prevents unintended modifications, ensuring that string data remains reliable and consistent. This is particularly useful in scenarios like cryptography or network programming.\n",
        "\n",
        "Ease of Debugging:\n",
        "\n",
        "Strings being immutable simplifies debugging, as developers can trust that string values won't change unexpectedly during program execution."
      ],
      "metadata": {
        "id": "sDJ4XBHczos5"
      }
    },
    {
      "cell_type": "markdown",
      "source": [
        "Q11. What advantages do dictionaries offer over lists for certain tasks?\n",
        "\n",
        "Dictionaries provide distinct advantages over lists when it comes to tasks that involve mapping or associating data, as well as scenarios requiring efficient lookups and dynamic data management. Here are some of the key benefits:\n",
        "\n",
        "1. Key-Value Mapping\n",
        "Unlike lists, dictionaries allow you to store data as key-value pairs, enabling you to associate meaningful keys with their corresponding values. This makes your data more readable and easier to work with.\n",
        "\n",
        "2. Fast Lookups\n",
        "Dictionaries use a hash table for storing data, which enables quick access to values based on keys. This has an average time complexity of O(1) for lookups, whereas searching for an item in a list has a time complexity of O(n).\n",
        "\n",
        "3. Dynamic and Flexible\n",
        "Dictionaries are ideal for managing data that might change during runtime. You can easily add, modify, or delete key-value pairs dynamically.\n",
        "\n",
        "4. Uniqueness of Keys\n",
        "Keys in a dictionary are unique, which ensures that no duplicates are present in the keys. Lists allow duplicates, which might not be suitable for certain tasks.\n",
        "5. Rich Operations\n",
        "Dictionaries support powerful operations such as getting all keys or values, iterating over key-value pairs, and more, which are not natively supported by lists."
      ],
      "metadata": {
        "id": "QcDp-J_e0Agi"
      }
    },
    {
      "cell_type": "markdown",
      "source": [
        "Q12. Describe a scenario where using a tuple would be preferable over a list?\n",
        "\n",
        "Using a tuple is preferable over a list in scenarios where data should remain constant and protected from modification. Here’s an example:\n",
        "\n",
        "Scenario: Storing GPS Coordinates\n",
        "Imagine you're building a navigation system where the GPS coordinates (latitude, longitude) of a location need to be stored. Since coordinates are fixed and should not be accidentally altered, a tuple is the perfect choice.\n",
        "\n",
        "Why Use a Tuple?\n",
        "\n",
        "Immutability: Ensures that the stored coordinates cannot be changed, preserving data integrity.\n",
        "\n",
        "Performance: Tuples are faster than lists due to their immutability, making them efficient for read-only data.\n",
        "\n",
        "Other Scenarios Where Tuples Shine\n",
        "Database Records: To store fixed records, such as the details of an individual (e.g., name, age, ID).\n",
        "\n",
        "Function Return Values: When a function returns multiple values that should remain unchanged.\n",
        "\n",
        "Configuration Settings: For constants like file paths or URLs that shouldn't be altered."
      ],
      "metadata": {
        "id": "6eEA7LrG0qpz"
      }
    },
    {
      "cell_type": "markdown",
      "source": [
        "Q13. How do sets handle duplicate values in Python?\n",
        "\n",
        "In Python, sets inherently do not allow duplicate values. When you attempt to add a duplicate item to a set, Python automatically discards it, ensuring all elements remain unique. This is possible because sets are implemented using a hash table, which enforces uniqueness.\n",
        "\n",
        "How Sets Handle Duplicates\n",
        "Eliminating Duplicates During Creation: If a list or other iterable containing duplicates is converted into a set, the duplicates are automatically removed.\n",
        "\n",
        "Adding Duplicates: When adding an item to a set that already exists in the set, Python simply ignores the addition without raising any errors.\n",
        "\n",
        "Key Property: Sets use hashing to store elements, and each element’s hash ensures that duplicates are not stored. This makes sets efficient for eliminating redundant data."
      ],
      "metadata": {
        "id": "BMoJ3Y7i0_xa"
      }
    },
    {
      "cell_type": "markdown",
      "source": [
        "Q14. How does the “in” keyword work differently for lists and dictionaries?\n",
        "\n",
        "The in keyword in Python is used to check for membership, but it behaves differently for lists and dictionaries based on their structure and purpose.\n",
        "\n",
        "1. Behavior in Lists\n",
        "Purpose: Checks whether a value exists in the list.\n",
        "\n",
        "Operation: It iterates through the list sequentially to see if the item matches any element.\n",
        "\n",
        "Time Complexity: O(n) (as it may need to search the entire list in the worst case).\n",
        "\n",
        "2. Behavior in Dictionaries\n",
        "Purpose: Checks whether a key exists in the dictionary (not the value).\n",
        "\n",
        "Operation: Since dictionaries are implemented as hash tables, the lookup for keys is very efficient.\n",
        "\n",
        "Time Complexity: Average O(1) for key lookups due to hashing."
      ],
      "metadata": {
        "id": "AuzCRdFy1WDg"
      }
    },
    {
      "cell_type": "markdown",
      "source": [
        "Q15. Can you modify the elements of a tuple? Explain why or why not?\n",
        "\n",
        "No, you cannot modify the elements of a tuple in Python because tuples are immutable. Once a tuple is created, its elements cannot be changed, added to, or removed. Here's why:\n",
        "\n",
        "Why Tuples Are Immutable\n",
        "Design Choice: Immutability ensures that data stored in tuples remains constant and cannot be accidentally altered. This makes tuples reliable for tasks where data integrity is important.\n",
        "\n",
        "Hashability: Because tuples are immutable, they can be used as keys in dictionaries or elements in sets, unlike mutable data types like lists.\n",
        "\n",
        "Performance: Immutability allows tuples to be implemented more efficiently in terms of memory and speed compared to mutable structures like lists.\n",
        "\n",
        "What Happens If You Try to Modify a Tuple?\n",
        "Any attempt to modify a tuple directly (e.g., by assigning a new value to an element) will raise a TypeError."
      ],
      "metadata": {
        "id": "1VoReIaK2yL4"
      }
    },
    {
      "cell_type": "markdown",
      "source": [
        "Q16. What is a nested dictionary, and give an example of its use case?\n",
        "\n",
        "A nested dictionary is a dictionary that contains another dictionary as a value, allowing you to store and organize complex, hierarchical data structures. This is particularly useful when you need to represent relationships between related entities or multiple attributes for each item.\n",
        "\n",
        "Use Case\n",
        "Consider a university database where you need to store details about students. Instead of creating multiple dictionaries for each student, you can use a nested dictionary to consolidate all the information. This makes it easier to:\n",
        "\n",
        "Organize the data hierarchically.\n",
        "\n",
        "Retrieve details about a specific student.\n",
        "\n",
        "Access attributes like name, age, or major easily.\n",
        "\n",
        "For example:\n",
        "\n",
        "Query Data: Quickly find a student's major.\n",
        "\n",
        "Modify Data: Update the age of a specific student.\n",
        "\n",
        "Scalability: Add new students or attributes without changing the overall structure."
      ],
      "metadata": {
        "id": "STg-R7Jz3RfX"
      }
    },
    {
      "cell_type": "markdown",
      "source": [
        "Q17. Describe the time complexity of accessing elements in a dictionary?\n",
        "\n",
        "Accessing elements in a dictionary in Python has an average time complexity of O(1), which means it is highly efficient. Here's a breakdown:\n",
        "\n",
        "Why O(1) Time Complexity?\n",
        "Hashing: When you access a value using a key, Python computes the hash of the key and uses it to directly locate the corresponding value in the underlying hash table. This direct mapping eliminates the need for searching, resulting in constant time on average.\n",
        "\n",
        "Worst Case Time Complexity\n",
        "In rare cases of hash collisions (when two keys produce the same hash), multiple keys are stored in the same bucket. Python resolves these collisions using techniques like chaining. Accessing an element in such scenarios may require traversing a short list of entries in the bucket, which leads to a worst-case time complexity of O(n). However, Python's design minimizes collisions to make this scenario highly unlikely.\n",
        "\n",
        "Practical Efficiency\n",
        "Despite the theoretical worst case, dictionary lookups in Python are remarkably fast and highly optimized for most real-world situations, making dictionaries one of the most efficient data structures for key-value mappings."
      ],
      "metadata": {
        "id": "uFsuSnx-3wCK"
      }
    },
    {
      "cell_type": "markdown",
      "source": [
        "Q18. In what situations are lists preferred over dictionaries?\n",
        "\n",
        "Lists are preferred over dictionaries in situations where sequential order, duplicate elements, or index-based access is important. Here are some specific scenarios:\n",
        "\n",
        "Situations Where Lists Excel\n",
        "\n",
        "Preserving Order:\n",
        "\n",
        "Lists maintain the order of elements, making them ideal for tasks where the sequence of items matters.\n",
        "Index-Based Access:\n",
        "\n",
        "Lists allow accessing elements directly by their position (index), which is useful in scenarios where data is structured linearly.\n",
        "\n",
        "Working with Homogeneous Data:\n",
        "\n",
        "Lists are ideal for storing collections of similar types of data (e.g., numbers or strings).\n",
        "\n",
        "Handling Duplicate Values:\n",
        "\n",
        "Lists allow duplicates, which can be important for certain data sets or computations."
      ],
      "metadata": {
        "id": "nstiAm9H4C_8"
      }
    },
    {
      "cell_type": "markdown",
      "source": [
        "Q19. Why are dictionaries considered unordered, and how does that affect data retrieval\n",
        "\n",
        "Dictionaries in Python are considered unordered because they do not maintain the original insertion order of their elements in versions of Python prior to 3.7. This means that when items were added to a dictionary, their order of appearance was not guaranteed. However, starting with Python 3.7, dictionaries do preserve the order of insertion, but they are still conceptually referred to as unordered because the order is not inherently tied to their functionality.\n"
      ],
      "metadata": {
        "id": "5DPgVh5b4ch4"
      }
    },
    {
      "cell_type": "markdown",
      "source": [
        "Q19. Why are dictionaries considered unordered, and how does that affect data retrieval?\n",
        "\n",
        "Dictionaries are considered unordered because they are designed to prioritize efficiency over maintaining any specific order of their elements. This stems from their underlying implementation using hash tables. While Python dictionaries started preserving insertion order in versions 3.7 and above, the concept of \"unordered\" reflects that their functionality is primarily based on key-value mappings, not position-based access."
      ],
      "metadata": {
        "id": "xHUOPm-O4ngL"
      }
    },
    {
      "cell_type": "markdown",
      "source": [
        "Q20. Explain the difference between a list and a dictionary in terms of data retrieval.\n",
        "\n",
        "he key difference between a list and a dictionary in terms of data retrieval lies in how items are accessed and the structure of the data:\n",
        "\n",
        "1. Accessing Elements\n",
        "List: Elements are accessed using their index, which represents their position in the list. Indices are numerical and start at 0.\n",
        "Access depends on the order of elements, and you must know the index of the item.\n",
        "\n",
        "Dictionary: Elements are accessed using their keys, which are unique identifiers associated with the values.\n",
        "\n",
        "2. Data Structure\n",
        "List: Stores a sequential collection of elements. It is suitable for data that has an inherent order or where duplicates are acceptable."
      ],
      "metadata": {
        "id": "3rLPT8gl4-MP"
      }
    },
    {
      "cell_type": "markdown",
      "source": [
        "**#PRACTICAL QUESTIONS**"
      ],
      "metadata": {
        "id": "tTm7BRyq54KL"
      }
    },
    {
      "cell_type": "markdown",
      "source": [
        "Q1. Write a code to create a string with your name and print it.\n",
        "\n"
      ],
      "metadata": {
        "id": "vvlt4PcD6Enq"
      }
    },
    {
      "cell_type": "code",
      "source": [
        "# Creating a string with my name\n",
        "my_name = \"ANKUR\"\n",
        "\n",
        "# Printing the string\n",
        "print"
      ],
      "metadata": {
        "colab": {
          "base_uri": "https://localhost:8080/"
        },
        "id": "OV6yed-e6Nr5",
        "outputId": "d156e93c-15fa-42b4-a33d-2453e1452fdd"
      },
      "execution_count": 2,
      "outputs": [
        {
          "output_type": "execute_result",
          "data": {
            "text/plain": [
              "<function print(*args, sep=' ', end='\\n', file=None, flush=False)>"
            ]
          },
          "metadata": {},
          "execution_count": 2
        }
      ]
    },
    {
      "cell_type": "markdown",
      "source": [
        "Q2. Write a code to find the length of the string \"Hello World\""
      ],
      "metadata": {
        "id": "Dn3OcruG6gx7"
      }
    },
    {
      "cell_type": "code",
      "source": [
        "# Define the string\n",
        "my_string = \"Hello World\"\n",
        "\n",
        "# Find the length of the string\n",
        "length = len(my_string)\n",
        "\n",
        "# Print the result\n",
        "print(\"The length of the string is:\", length)\n"
      ],
      "metadata": {
        "colab": {
          "base_uri": "https://localhost:8080/"
        },
        "id": "6PtQ6sF26icf",
        "outputId": "ae0435ff-923e-4b85-e349-c9a53868c0f6"
      },
      "execution_count": 3,
      "outputs": [
        {
          "output_type": "stream",
          "name": "stdout",
          "text": [
            "The length of the string is: 11\n"
          ]
        }
      ]
    },
    {
      "cell_type": "markdown",
      "source": [
        "Q3. Write a code to slice the first 3 characters from the string \"Python Programming\"\n"
      ],
      "metadata": {
        "id": "wZarL0BT6wNj"
      }
    },
    {
      "cell_type": "code",
      "source": [
        "# Define the string\n",
        "my_string = \"Python Programming\"\n",
        "\n",
        "# Slice the first 3 characters\n",
        "sliced_string = my_string[:3]\n",
        "\n",
        "# Print the result\n",
        "print(\"The first 3 characters are:\", sliced_string)\n"
      ],
      "metadata": {
        "colab": {
          "base_uri": "https://localhost:8080/"
        },
        "id": "OqBf_XX36zPP",
        "outputId": "0d237b84-86cd-477c-cd34-e1ff3705e826"
      },
      "execution_count": 4,
      "outputs": [
        {
          "output_type": "stream",
          "name": "stdout",
          "text": [
            "The first 3 characters are: Pyt\n"
          ]
        }
      ]
    },
    {
      "cell_type": "markdown",
      "source": [
        "Q4. Write a code to convert the string \"hello\" to uppercase"
      ],
      "metadata": {
        "id": "rRvFMBoO61F1"
      }
    },
    {
      "cell_type": "code",
      "source": [
        "# Define the string\n",
        "my_string = \"hello\"\n",
        "\n",
        "# Convert the string to uppercase\n",
        "uppercase_string = my_string.upper()\n",
        "\n",
        "# Print the result\n",
        "print(\"The uppercase string is:\", uppercase_string)\n"
      ],
      "metadata": {
        "colab": {
          "base_uri": "https://localhost:8080/"
        },
        "id": "mHqFMQW869Qv",
        "outputId": "4e11c643-8bbf-4558-93f4-a24506578b62"
      },
      "execution_count": 5,
      "outputs": [
        {
          "output_type": "stream",
          "name": "stdout",
          "text": [
            "The uppercase string is: HELLO\n"
          ]
        }
      ]
    },
    {
      "cell_type": "markdown",
      "source": [
        "Q5. Write a code to replace the word \"apple\" with \"orange\" in the string \"I like apple\"\n"
      ],
      "metadata": {
        "id": "FSup_CJ57Hd4"
      }
    },
    {
      "cell_type": "code",
      "source": [
        "# Define the string\n",
        "my_string = \"I like apple\"\n",
        "\n",
        "# Replace \"apple\" with \"orange\"\n",
        "modified_string = my_string.replace(\"apple\", \"orange\")\n",
        "\n",
        "# Print the result\n",
        "print(\"Modified string:\", modified_string)\n"
      ],
      "metadata": {
        "colab": {
          "base_uri": "https://localhost:8080/"
        },
        "id": "_kiZ6Cw47LRZ",
        "outputId": "8b06eef1-8fff-46c0-d3ba-822fe5134254"
      },
      "execution_count": 6,
      "outputs": [
        {
          "output_type": "stream",
          "name": "stdout",
          "text": [
            "Modified string: I like orange\n"
          ]
        }
      ]
    },
    {
      "cell_type": "markdown",
      "source": [
        "Q6. Write a code to create a list with numbers 1 to 5 and print it\n",
        "\n",
        "\n",
        "\n",
        "---\n",
        "\n"
      ],
      "metadata": {
        "id": "yW_LsNJj7Pue"
      }
    },
    {
      "cell_type": "code",
      "source": [
        "# Create a list with numbers 1 to 5\n",
        "my_list = [1, 2, 3, 4, 5]\n",
        "\n",
        "# Print the list\n",
        "print(\"The list is:\", my_list)\n"
      ],
      "metadata": {
        "colab": {
          "base_uri": "https://localhost:8080/"
        },
        "id": "U4cQ04307aar",
        "outputId": "9d71c7d4-9e13-4e98-f406-ac2afc09cd40"
      },
      "execution_count": 8,
      "outputs": [
        {
          "output_type": "stream",
          "name": "stdout",
          "text": [
            "The list is: [1, 2, 3, 4, 5]\n"
          ]
        }
      ]
    },
    {
      "cell_type": "markdown",
      "source": [
        " Q4.Write a code to append the number 10 to the list [1, 2, 3, 4]\n"
      ],
      "metadata": {
        "id": "HkVcOHzY7oSR"
      }
    },
    {
      "cell_type": "code",
      "source": [
        "# Define the list\n",
        "my_list = [1, 2, 3, 4]\n",
        "\n",
        "# Append the number 10\n",
        "my_list.append(10)\n",
        "\n",
        "# Print the updated list\n",
        "print(\"Updated list:\", my_list)\n"
      ],
      "metadata": {
        "colab": {
          "base_uri": "https://localhost:8080/"
        },
        "id": "aPQzPisF7x04",
        "outputId": "ef9ea243-f560-4c0c-a3e0-d071aef6aeb9"
      },
      "execution_count": 7,
      "outputs": [
        {
          "output_type": "stream",
          "name": "stdout",
          "text": [
            "Updated list: [1, 2, 3, 4, 10]\n"
          ]
        }
      ]
    },
    {
      "cell_type": "markdown",
      "source": [
        "Q8. Write a code to remove the number 3 from the list [1, 2, 3, 4, 5]\n",
        "\n"
      ],
      "metadata": {
        "id": "gDvjwVoT79N1"
      }
    },
    {
      "cell_type": "code",
      "source": [
        "# Define the list\n",
        "my_list = [1, 2, 3, 4, 5]\n",
        "\n",
        "# Remove the number 3\n",
        "my_list.remove(3)\n",
        "\n",
        "# Print the updated list\n",
        "print(\"Updated list:\", my_list)\n",
        "\n"
      ],
      "metadata": {
        "colab": {
          "base_uri": "https://localhost:8080/"
        },
        "id": "dqOcnHt38Dly",
        "outputId": "60cabcaa-d49a-4483-8770-d5f49ecc27c8"
      },
      "execution_count": 9,
      "outputs": [
        {
          "output_type": "stream",
          "name": "stdout",
          "text": [
            "Updated list: [1, 2, 4, 5]\n"
          ]
        }
      ]
    },
    {
      "cell_type": "code",
      "source": [],
      "metadata": {
        "id": "dWCZ5NdE8N4C"
      },
      "execution_count": null,
      "outputs": []
    },
    {
      "cell_type": "markdown",
      "source": [
        "Q.10 Write a code to access the second element in the list ['a', 'b', 'c', 'd']\n"
      ],
      "metadata": {
        "id": "crjWMYHO8UGc"
      }
    },
    {
      "cell_type": "code",
      "source": [
        "# Define the list\n",
        "my_list = ['a', 'b', 'c', 'd']\n",
        "\n",
        "# Access the second element\n",
        "second_element = my_list[1]\n",
        "\n",
        "# Print the result\n",
        "print(\"The second element is:\", second_element)\n"
      ],
      "metadata": {
        "id": "-IK1wPpZ8gqF"
      },
      "execution_count": null,
      "outputs": []
    },
    {
      "cell_type": "markdown",
      "source": [
        "Q11. Write a code to reverse the list [10, 20, 30, 40, 50].\n"
      ],
      "metadata": {
        "id": "zE18otHM8rLo"
      }
    },
    {
      "cell_type": "code",
      "source": [],
      "metadata": {
        "id": "cxCvC1FS8zlJ"
      },
      "execution_count": null,
      "outputs": []
    },
    {
      "cell_type": "code",
      "source": [
        "# Define the list\n",
        "my_list = [10, 20, 30, 40, 50]\n",
        "\n",
        "# Reverse the list\n",
        "reversed_list = my_list[::-1]\n",
        "\n",
        "# Print the reversed list\n",
        "print(\"Reversed list:\", reversed_list)\n"
      ],
      "metadata": {
        "colab": {
          "base_uri": "https://localhost:8080/"
        },
        "id": "SZzM8xod81ZQ",
        "outputId": "e58bb54f-c450-43e6-94ea-1f613e21d51c"
      },
      "execution_count": 11,
      "outputs": [
        {
          "output_type": "stream",
          "name": "stdout",
          "text": [
            "Reversed list: [50, 40, 30, 20, 10]\n"
          ]
        }
      ]
    },
    {
      "cell_type": "markdown",
      "source": [
        "Q11. Write a code to create a tuple with the elements 100, 200, 300 and print it.\n"
      ],
      "metadata": {
        "id": "NEp8MewO9hcF"
      }
    },
    {
      "cell_type": "code",
      "source": [
        "# Create a tuple with the elements 100, 200, 300\n",
        "my_tuple = (100, 200, 300)\n",
        "\n",
        "# Print the tuple\n",
        "print(\"The tuple is:\", my_tuple)\n"
      ],
      "metadata": {
        "id": "zZw7k9G69v1s"
      },
      "execution_count": null,
      "outputs": []
    },
    {
      "cell_type": "markdown",
      "source": [
        "Q12.11. Write a code to create a tuple with the elements 100, 200, 300 and print it.\n"
      ],
      "metadata": {
        "id": "DszrF60A-D-y"
      }
    },
    {
      "cell_type": "code",
      "source": [
        "# Create a tuple with the elements 100, 200, 300\n",
        "my_tuple = (100, 200, 300)\n",
        "\n",
        "# Print the tuple\n",
        "print(\"The tuple is:\", my_tuple)\n"
      ],
      "metadata": {
        "colab": {
          "base_uri": "https://localhost:8080/"
        },
        "id": "Odw8hKcB-rHT",
        "outputId": "1346bd27-6997-4428-ed25-d6c25e3f6cdd"
      },
      "execution_count": 12,
      "outputs": [
        {
          "output_type": "stream",
          "name": "stdout",
          "text": [
            "The tuple is: (100, 200, 300)\n"
          ]
        }
      ]
    },
    {
      "cell_type": "markdown",
      "source": [
        "Q12. 12. Write a code to access the second-to-last element of the tuple ('red', 'green', 'blue', 'yellow').\n",
        "\n"
      ],
      "metadata": {
        "id": "vuOBPN5P-u3Y"
      }
    },
    {
      "cell_type": "code",
      "source": [
        "# Define the tuple\n",
        "my_tuple = ('red', 'green', 'blue', 'yellow')\n",
        "\n",
        "# Access the second-to-last element\n",
        "second_to_last = my_tuple[-2]\n",
        "\n",
        "# Print the result\n",
        "print(\"The second-to-last element is:\", second_to_last)\n"
      ],
      "metadata": {
        "colab": {
          "base_uri": "https://localhost:8080/"
        },
        "id": "N7Ttcbj5-4_c",
        "outputId": "5bda138c-a94a-4389-8d04-78402f61a193"
      },
      "execution_count": 13,
      "outputs": [
        {
          "output_type": "stream",
          "name": "stdout",
          "text": [
            "The second-to-last element is: blue\n"
          ]
        }
      ]
    },
    {
      "cell_type": "markdown",
      "source": [
        " 13. Write a code to find the minimum number in the tuple (10, 20, 5, 15).\n"
      ],
      "metadata": {
        "id": "HizZ-HQ3_AiE"
      }
    },
    {
      "cell_type": "code",
      "source": [
        "# Define the tuple\n",
        "my_tuple = (10, 20, 5, 15)\n",
        "\n",
        "# Find the minimum number\n",
        "min_number = min(my_tuple)\n",
        "\n",
        "# Print the result\n",
        "print(\"The minimum number is:\", min_number)\n"
      ],
      "metadata": {
        "colab": {
          "base_uri": "https://localhost:8080/"
        },
        "id": "g9oKd0D2_GZQ",
        "outputId": "131ada6a-73e6-4838-81de-81c88349af4c"
      },
      "execution_count": 14,
      "outputs": [
        {
          "output_type": "stream",
          "name": "stdout",
          "text": [
            "The minimum number is: 5\n"
          ]
        }
      ]
    },
    {
      "cell_type": "markdown",
      "source": [
        " 14. Write a code to find the index of the element \"cat\" in the tuple ('dog', 'cat', 'rabbit').\n"
      ],
      "metadata": {
        "id": "2ebT81ur_SKq"
      }
    },
    {
      "cell_type": "code",
      "source": [
        "# Define the tuple\n",
        "my_tuple = ('dog', 'cat', 'rabbit')\n",
        "\n",
        "# Find the index of \"cat\"\n",
        "cat_index = my_tuple.index('cat')\n",
        "\n",
        "# Print the result\n",
        "print(\"The index of 'cat' is:\", cat_index)\n"
      ],
      "metadata": {
        "id": "ZJW0IjiU_YLI"
      },
      "execution_count": null,
      "outputs": []
    },
    {
      "cell_type": "markdown",
      "source": [
        " 15. Write a code to create a tuple containing three different fruits and check if \"kiwi\" is in it.\n"
      ],
      "metadata": {
        "id": "w9CzF2zB_eEF"
      }
    },
    {
      "cell_type": "code",
      "source": [
        "# Create a tuple with three fruits\n",
        "fruits_tuple = (\"apple\", \"banana\", \"cherry\")\n",
        "\n",
        "# Check if \"kiwi\" is in the tuple\n",
        "is_kiwi_present = \"kiwi\" in fruits_tuple\n",
        "\n",
        "# Print the result\n",
        "print(\"Is 'kiwi' in the tuple?\", is_kiwi_present)\n"
      ],
      "metadata": {
        "id": "Zpq7YwR7_iWJ"
      },
      "execution_count": null,
      "outputs": []
    },
    {
      "cell_type": "markdown",
      "source": [
        " 16. Write a code to create a set with the elements 'a', 'b', 'c' and print it.\n"
      ],
      "metadata": {
        "id": "HprKm8KZ_yiC"
      }
    },
    {
      "cell_type": "code",
      "source": [
        "# Create a set with the elements 'a', 'b', 'c'\n",
        "my_set = {'a', 'b', 'c'}\n",
        "\n",
        "# Print the set\n",
        "print(\"The set is:\", my_set)\n"
      ],
      "metadata": {
        "id": "9pMMEsX9_7Cn"
      },
      "execution_count": null,
      "outputs": []
    },
    {
      "cell_type": "markdown",
      "source": [
        " 17. Write a code to clear all elements from the set {1, 2, 3, 4, 5}.\n"
      ],
      "metadata": {
        "id": "wLg8sBkfAINf"
      }
    },
    {
      "cell_type": "code",
      "source": [
        "# Define the set\n",
        "my_set = {1, 2, 3, 4, 5}\n",
        "\n",
        "# Clear all elements from the set\n",
        "my_set.clear()\n",
        "\n",
        "# Print the result\n",
        "print(\"The set after clearing:\", my_set)\n"
      ],
      "metadata": {
        "colab": {
          "base_uri": "https://localhost:8080/"
        },
        "id": "_mW1difMA93Q",
        "outputId": "ce90dfe0-2d59-42e9-b0d0-ac9e34a78b80"
      },
      "execution_count": 15,
      "outputs": [
        {
          "output_type": "stream",
          "name": "stdout",
          "text": [
            "The set after clearing: set()\n"
          ]
        }
      ]
    },
    {
      "cell_type": "markdown",
      "source": [
        " 18. Write a code to remove the element 4 from the set {1, 2, 3, 4}.\n"
      ],
      "metadata": {
        "id": "GU3ms0DxBNgQ"
      }
    },
    {
      "cell_type": "code",
      "source": [
        "# Define the set\n",
        "my_set = {1, 2, 3, 4}\n",
        "\n",
        "# Remove the element 4\n",
        "my_set.remove(4)\n",
        "\n",
        "# Print the updated set\n",
        "print(\"The set after removing 4:\", my_set)\n",
        "\n"
      ],
      "metadata": {
        "colab": {
          "base_uri": "https://localhost:8080/"
        },
        "id": "AuTkmhH_BRwT",
        "outputId": "a8cae829-a49d-4990-d748-68a704f3a701"
      },
      "execution_count": 16,
      "outputs": [
        {
          "output_type": "stream",
          "name": "stdout",
          "text": [
            "The set after removing 4: {1, 2, 3}\n"
          ]
        }
      ]
    },
    {
      "cell_type": "markdown",
      "source": [
        " 19. Write a code to find the union of two sets {1, 2, 3} and {3, 4, 5}.\n"
      ],
      "metadata": {
        "id": "lXllRP4ZBXvs"
      }
    },
    {
      "cell_type": "code",
      "source": [
        "# Define the sets\n",
        "set1 = {1, 2, 3}\n",
        "set2 = {3, 4, 5}\n",
        "\n",
        "# Find the union of the two sets\n",
        "union_set = set1.union(set2)\n",
        "\n",
        "# Print the result\n",
        "print(\"The union of the sets is:\", union_set)\n"
      ],
      "metadata": {
        "id": "WlYk4N9mBcub"
      },
      "execution_count": null,
      "outputs": []
    },
    {
      "cell_type": "markdown",
      "source": [
        "# Define the sets\n",
        "set1 = {1, 2, 3}\n",
        "set2 = {2, 3, 4}\n",
        "\n",
        "# Find the intersection of the two sets\n",
        "intersection_set = set1.intersection(set2)\n",
        "\n",
        "# Print the result\n",
        "print(\"The intersection of the sets is:\", intersection_set)\n"
      ],
      "metadata": {
        "id": "XQlOT8mCBpcN"
      }
    },
    {
      "cell_type": "code",
      "source": [],
      "metadata": {
        "id": "Sht8RPwvCPba"
      },
      "execution_count": null,
      "outputs": []
    },
    {
      "cell_type": "markdown",
      "source": [
        " 20. Write a code to find the intersection of two sets {1, 2, 3} and {2, 3, 4}.\n",
        "\n"
      ],
      "metadata": {
        "id": "VuYCKDvuC7Z0"
      }
    },
    {
      "cell_type": "code",
      "source": [
        "# Define the sets\n",
        "set1 = {1, 2, 3}\n",
        "set2 = {2, 3, 4}\n",
        "\n",
        "# Find the intersection of the two sets\n",
        "intersection_set = set1.intersection(set2)\n",
        "\n",
        "# Print the result\n",
        "print(\"The intersection of the sets is:\", intersection_set)\n"
      ],
      "metadata": {
        "colab": {
          "base_uri": "https://localhost:8080/"
        },
        "id": "82HMmN2PDFYA",
        "outputId": "1d6961c0-b439-442e-a4de-6f48d54623f0"
      },
      "execution_count": 17,
      "outputs": [
        {
          "output_type": "stream",
          "name": "stdout",
          "text": [
            "The intersection of the sets is: {2, 3}\n"
          ]
        }
      ]
    },
    {
      "cell_type": "markdown",
      "source": [
        " 21. Write a code to create a dictionary with the keys \"name\", \"age\", and \"city\", and print it.\n"
      ],
      "metadata": {
        "id": "jvECVWGvDIXp"
      }
    },
    {
      "cell_type": "code",
      "source": [
        "# Create a dictionary\n",
        "my_dict = {\n",
        "    \"name\": \"John\",\n",
        "    \"age\": 25,\n",
        "    \"city\": \"New York\"\n",
        "}\n",
        "\n",
        "# Print the dictionary\n",
        "print(\"The dictionary is:\", my_dict)\n",
        "\n"
      ],
      "metadata": {
        "id": "p-h0PCPDDJYR"
      },
      "execution_count": null,
      "outputs": []
    },
    {
      "cell_type": "markdown",
      "source": [
        " 22. Write a code to add a new key-value pair \"country\": \"USA\" to the dictionary {'name': 'John', 'age': 25}.\n"
      ],
      "metadata": {
        "id": "-QhfNcYEDidA"
      }
    },
    {
      "cell_type": "code",
      "source": [
        "# Define the dictionary\n",
        "my_dict = {'name': 'John', 'age': 25}\n",
        "\n",
        "# Add a new key-value pair\n",
        "my_dict['country'] = 'USA'\n",
        "\n",
        "# Print the updated dictionary\n",
        "print(\"Updated dictionary:\", my_dict)\n"
      ],
      "metadata": {
        "colab": {
          "base_uri": "https://localhost:8080/"
        },
        "id": "Y0F-W_6kDyTx",
        "outputId": "c26df230-0be8-465d-a8f5-fbc30664f763"
      },
      "execution_count": 18,
      "outputs": [
        {
          "output_type": "stream",
          "name": "stdout",
          "text": [
            "Updated dictionary: {'name': 'John', 'age': 25, 'country': 'USA'}\n"
          ]
        }
      ]
    },
    {
      "cell_type": "markdown",
      "source": [
        " 23. Write a code to access the value associated with the key \"name\" in the dictionary {'name': 'Alice', 'age': 30}.\n"
      ],
      "metadata": {
        "id": "WUXt5sRoEDyJ"
      }
    },
    {
      "cell_type": "code",
      "source": [
        "# Define the dictionary\n",
        "my_dict = {'name': 'Alice', 'age': 30}\n",
        "\n",
        "# Access the value associated with the key \"name\"\n",
        "name_value = my_dict['name']\n",
        "\n",
        "# Print the result\n",
        "print(\"The value associated with 'name' is:\", name_value)\n",
        "\n"
      ],
      "metadata": {
        "colab": {
          "base_uri": "https://localhost:8080/"
        },
        "id": "c9vAX5jeEEuh",
        "outputId": "d53665fd-2841-43b9-cc57-fe3b5a21545a"
      },
      "execution_count": 19,
      "outputs": [
        {
          "output_type": "stream",
          "name": "stdout",
          "text": [
            "The value associated with 'name' is: Alice\n"
          ]
        }
      ]
    },
    {
      "cell_type": "markdown",
      "source": [
        " 24. Write a code to remove the key \"age\" from the dictionary {'name': 'Bob', 'age': 22, 'city': 'New York'}.\n",
        "\n"
      ],
      "metadata": {
        "id": "6Lhu_XwJETXn"
      }
    },
    {
      "cell_type": "code",
      "source": [
        "# Define the dictionary\n",
        "my_dict = {'name': 'Bob', 'age': 22, 'city': 'New York'}\n",
        "\n",
        "# Remove the key \"age\"\n",
        "my_dict.pop('age')\n",
        "\n",
        "# Print the updated dictionary\n",
        "print(\"Updated dictionary:\", my_dict)\n",
        "\n"
      ],
      "metadata": {
        "id": "46Um3AukEy9b"
      },
      "execution_count": null,
      "outputs": []
    },
    {
      "cell_type": "markdown",
      "source": [
        " 25. Write a code to check if the key \"city\" exists in the dictionary {'name': 'Alice', 'city': 'Paris'}.\n"
      ],
      "metadata": {
        "id": "-dJKclQGFSTY"
      }
    },
    {
      "cell_type": "markdown",
      "source": [
        "# Define the dictionary\n",
        "my_dict = {'name': 'Alice', 'city': 'Paris'}\n",
        "\n",
        "# Check if the key \"city\" exists\n",
        "is_city_present = 'city' in my_dict\n",
        "\n",
        "# Print the result\n",
        "print(\"Does 'city' exist in the dictionary?\", is_city_present)\n",
        "\n"
      ],
      "metadata": {
        "id": "VikktHZCFc9W"
      }
    },
    {
      "cell_type": "markdown",
      "source": [
        " 26. Write a code to create a list, a tuple, and a dictionary, and print them all.\n"
      ],
      "metadata": {
        "id": "tv1zc1SgF4fV"
      }
    },
    {
      "cell_type": "code",
      "source": [
        "# Create a list\n",
        "my_list = [1, 2, 3, 4]\n",
        "\n",
        "# Create a tuple\n",
        "my_tuple = ('a', 'b', 'c', 'd')\n",
        "\n",
        "# Create a dictionary\n",
        "my_dict = {'name': 'Alice', 'age': 30, 'city': 'Paris'}\n",
        "\n",
        "# Print the list, tuple, and dictionary\n",
        "print(\"The list is:\", my_list)\n",
        "print(\"The tuple is:\", my_tuple)\n",
        "print(\"The dictionary is:\", my_dict)\n"
      ],
      "metadata": {
        "colab": {
          "base_uri": "https://localhost:8080/"
        },
        "id": "vTHtxwYcGRsM",
        "outputId": "bb739e23-19a1-4dc1-973d-4f08461018f5"
      },
      "execution_count": 20,
      "outputs": [
        {
          "output_type": "stream",
          "name": "stdout",
          "text": [
            "The list is: [1, 2, 3, 4]\n",
            "The tuple is: ('a', 'b', 'c', 'd')\n",
            "The dictionary is: {'name': 'Alice', 'age': 30, 'city': 'Paris'}\n"
          ]
        }
      ]
    },
    {
      "cell_type": "markdown",
      "source": [
        " 27. Write a code to create a list of 5 random numbers between 1 and 100, sort it in ascending order, and print the result.(replaced)\n",
        "\n"
      ],
      "metadata": {
        "id": "QIdW7ycCGZHR"
      }
    },
    {
      "cell_type": "code",
      "source": [
        "import random\n",
        "\n",
        "# Generate a list of 5 random numbers between 1 and 100\n",
        "random_numbers = [random.randint(1, 100) for _ in range(5)]\n",
        "\n",
        "# Sort the list in ascending order\n",
        "sorted_numbers = sorted(random_numbers)\n",
        "\n",
        "# Print the result\n",
        "print(\"Random numbers:\", random_numbers)\n",
        "print(\"Sorted numbers:\", sorted_numbers)\n"
      ],
      "metadata": {
        "colab": {
          "base_uri": "https://localhost:8080/"
        },
        "id": "RLYRG11CGlBK",
        "outputId": "746a414f-7060-4811-f556-7bf85c7412b2"
      },
      "execution_count": 22,
      "outputs": [
        {
          "output_type": "stream",
          "name": "stdout",
          "text": [
            "Random numbers: [26, 96, 94, 4, 85]\n",
            "Sorted numbers: [4, 26, 85, 94, 96]\n"
          ]
        }
      ]
    },
    {
      "cell_type": "markdown",
      "source": [
        "28. Write a code to create a list with strings and print the element at the third index.\n"
      ],
      "metadata": {
        "id": "m117EHDSGn_b"
      }
    },
    {
      "cell_type": "code",
      "source": [
        "# Create a list with strings\n",
        "my_list = [\"apple\", \"banana\", \"cherry\", \"date\", \"elderberry\"]\n",
        "\n",
        "# Access and print the element at the third index\n",
        "third_index_element = my_list[3]\n",
        "print(\"The element at the third index is:\", third_index_element)\n"
      ],
      "metadata": {
        "colab": {
          "base_uri": "https://localhost:8080/"
        },
        "id": "iPpVgwXtGvgm",
        "outputId": "593a2da2-d644-43cf-a3d7-8928f25b1e5b"
      },
      "execution_count": 23,
      "outputs": [
        {
          "output_type": "stream",
          "name": "stdout",
          "text": [
            "The element at the third index is: date\n"
          ]
        }
      ]
    },
    {
      "cell_type": "markdown",
      "source": [
        " 29. Write a code to combine two dictionaries into one and print the result.\n"
      ],
      "metadata": {
        "id": "4Xw_fhl1G4n1"
      }
    },
    {
      "cell_type": "code",
      "source": [
        "# Define two dictionaries\n",
        "dict1 = {\"name\": \"Alice\", \"age\": 30}\n",
        "dict2 = {\"city\": \"Paris\", \"country\": \"France\"}\n",
        "\n",
        "# Combine the dictionaries\n",
        "combined_dict = {**dict1, **dict2}\n",
        "\n",
        "# Print the result\n",
        "print(\"Combined dictionary:\", combined_dict)\n"
      ],
      "metadata": {
        "colab": {
          "base_uri": "https://localhost:8080/"
        },
        "id": "K14zagmDG65V",
        "outputId": "6014eae5-77e4-4a50-fffb-177db8ad2f31"
      },
      "execution_count": 24,
      "outputs": [
        {
          "output_type": "stream",
          "name": "stdout",
          "text": [
            "Combined dictionary: {'name': 'Alice', 'age': 30, 'city': 'Paris', 'country': 'France'}\n"
          ]
        }
      ]
    },
    {
      "cell_type": "markdown",
      "source": [
        " 30. Write a code to convert a list of strings into a set.\n"
      ],
      "metadata": {
        "id": "acEt4GpRHH4p"
      }
    },
    {
      "cell_type": "code",
      "source": [
        "# Define the list of strings\n",
        "string_list = [\"apple\", \"banana\", \"cherry\", \"apple\", \"date\"]\n",
        "\n",
        "# Convert the list into a set\n",
        "string_set = set(string_list)\n",
        "\n",
        "# Print the result\n",
        "print(\"The set is:\", string_set)\n"
      ],
      "metadata": {
        "id": "NcAgeqdqHNIP"
      },
      "execution_count": null,
      "outputs": []
    }
  ]
}